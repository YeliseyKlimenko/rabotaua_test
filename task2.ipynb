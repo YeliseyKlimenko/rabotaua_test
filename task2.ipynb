{
 "cells": [
  {
   "cell_type": "code",
   "execution_count": 1,
   "id": "2e8066c9",
   "metadata": {},
   "outputs": [],
   "source": [
    "import pandas as pd\n",
    "import re"
   ]
  },
  {
   "cell_type": "markdown",
   "id": "caf275ef",
   "metadata": {},
   "source": [
    "Import the dataset and examine its metadata."
   ]
  },
  {
   "cell_type": "code",
   "execution_count": 2,
   "id": "da68e527",
   "metadata": {},
   "outputs": [
    {
     "name": "stdout",
     "output_type": "stream",
     "text": [
      "<class 'pandas.core.frame.DataFrame'>\n",
      "RangeIndex: 190 entries, 0 to 189\n",
      "Data columns (total 4 columns):\n",
      " #   Column                  Non-Null Count  Dtype \n",
      "---  ------                  --------------  ----- \n",
      " 0   NotebookId              190 non-null    int64 \n",
      " 1   Phone                   172 non-null    object\n",
      " 2   allowed_communications  190 non-null    bool  \n",
      " 3   manager_name            190 non-null    object\n",
      "dtypes: bool(1), int64(1), object(2)\n",
      "memory usage: 4.8+ KB\n"
     ]
    }
   ],
   "source": [
    "test_ds = pd.read_csv(\"task2/test_dataset.csv\")\n",
    "test_ds.info()"
   ]
  },
  {
   "cell_type": "code",
   "execution_count": 18,
   "id": "00ec44e2",
   "metadata": {},
   "outputs": [
    {
     "data": {
      "text/html": [
       "<div>\n",
       "<style scoped>\n",
       "    .dataframe tbody tr th:only-of-type {\n",
       "        vertical-align: middle;\n",
       "    }\n",
       "\n",
       "    .dataframe tbody tr th {\n",
       "        vertical-align: top;\n",
       "    }\n",
       "\n",
       "    .dataframe thead th {\n",
       "        text-align: right;\n",
       "    }\n",
       "</style>\n",
       "<table border=\"1\" class=\"dataframe\">\n",
       "  <thead>\n",
       "    <tr style=\"text-align: right;\">\n",
       "      <th></th>\n",
       "      <th>index</th>\n",
       "      <th>NotebookId</th>\n",
       "      <th>Phone</th>\n",
       "      <th>allowed_communications</th>\n",
       "      <th>manager_name</th>\n",
       "    </tr>\n",
       "  </thead>\n",
       "  <tbody>\n",
       "    <tr>\n",
       "      <th>0</th>\n",
       "      <td>0</td>\n",
       "      <td>10713220</td>\n",
       "      <td>380509140000</td>\n",
       "      <td>True</td>\n",
       "      <td>Ірина Савенко</td>\n",
       "    </tr>\n",
       "    <tr>\n",
       "      <th>1</th>\n",
       "      <td>1</td>\n",
       "      <td>3991423</td>\n",
       "      <td>380634100000</td>\n",
       "      <td>True</td>\n",
       "      <td>Анастасія Бардакова</td>\n",
       "    </tr>\n",
       "    <tr>\n",
       "      <th>2</th>\n",
       "      <td>2</td>\n",
       "      <td>4696490</td>\n",
       "      <td>380445010000</td>\n",
       "      <td>True</td>\n",
       "      <td>Олексій Воронін</td>\n",
       "    </tr>\n",
       "    <tr>\n",
       "      <th>3</th>\n",
       "      <td>3</td>\n",
       "      <td>4598164</td>\n",
       "      <td>380678140000</td>\n",
       "      <td>True</td>\n",
       "      <td>Алла Массольд</td>\n",
       "    </tr>\n",
       "    <tr>\n",
       "      <th>4</th>\n",
       "      <td>5</td>\n",
       "      <td>13255582</td>\n",
       "      <td>380668110000</td>\n",
       "      <td>True</td>\n",
       "      <td>Алла Массольд</td>\n",
       "    </tr>\n",
       "    <tr>\n",
       "      <th>...</th>\n",
       "      <td>...</td>\n",
       "      <td>...</td>\n",
       "      <td>...</td>\n",
       "      <td>...</td>\n",
       "      <td>...</td>\n",
       "    </tr>\n",
       "    <tr>\n",
       "      <th>167</th>\n",
       "      <td>185</td>\n",
       "      <td>1056204</td>\n",
       "      <td>380675080000</td>\n",
       "      <td>True</td>\n",
       "      <td>Меркель Анна</td>\n",
       "    </tr>\n",
       "    <tr>\n",
       "      <th>168</th>\n",
       "      <td>186</td>\n",
       "      <td>9835662</td>\n",
       "      <td>380993920000</td>\n",
       "      <td>True</td>\n",
       "      <td>Меркель Анна</td>\n",
       "    </tr>\n",
       "    <tr>\n",
       "      <th>169</th>\n",
       "      <td>187</td>\n",
       "      <td>1066133</td>\n",
       "      <td>380930757000</td>\n",
       "      <td>False</td>\n",
       "      <td>E-commerce</td>\n",
       "    </tr>\n",
       "    <tr>\n",
       "      <th>170</th>\n",
       "      <td>188</td>\n",
       "      <td>2449583</td>\n",
       "      <td>380979310000</td>\n",
       "      <td>True</td>\n",
       "      <td>E-commerce</td>\n",
       "    </tr>\n",
       "    <tr>\n",
       "      <th>171</th>\n",
       "      <td>189</td>\n",
       "      <td>3411552</td>\n",
       "      <td>380674321000</td>\n",
       "      <td>False</td>\n",
       "      <td>E-commerce</td>\n",
       "    </tr>\n",
       "  </tbody>\n",
       "</table>\n",
       "<p>172 rows × 5 columns</p>\n",
       "</div>"
      ],
      "text/plain": [
       "     index  NotebookId         Phone  allowed_communications  \\\n",
       "0        0    10713220  380509140000                    True   \n",
       "1        1     3991423  380634100000                    True   \n",
       "2        2     4696490  380445010000                    True   \n",
       "3        3     4598164  380678140000                    True   \n",
       "4        5    13255582  380668110000                    True   \n",
       "..     ...         ...           ...                     ...   \n",
       "167    185     1056204  380675080000                    True   \n",
       "168    186     9835662  380993920000                    True   \n",
       "169    187     1066133  380930757000                   False   \n",
       "170    188     2449583  380979310000                    True   \n",
       "171    189     3411552  380674321000                   False   \n",
       "\n",
       "            manager_name  \n",
       "0          Ірина Савенко  \n",
       "1    Анастасія Бардакова  \n",
       "2       Олексій Воронін   \n",
       "3          Алла Массольд  \n",
       "4          Алла Массольд  \n",
       "..                   ...  \n",
       "167         Меркель Анна  \n",
       "168         Меркель Анна  \n",
       "169           E-commerce  \n",
       "170           E-commerce  \n",
       "171           E-commerce  \n",
       "\n",
       "[172 rows x 5 columns]"
      ]
     },
     "execution_count": 18,
     "metadata": {},
     "output_type": "execute_result"
    }
   ],
   "source": [
    "test_ds"
   ]
  },
  {
   "cell_type": "markdown",
   "id": "696449e2",
   "metadata": {},
   "source": [
    "First, we want to transform the 'Phone' column. We are going to drop the empty rows, get rid of non-digits in the data, convert everything to a 380xxxxxxxxx format and cast it to integer."
   ]
  },
  {
   "cell_type": "code",
   "execution_count": 3,
   "id": "37120763",
   "metadata": {},
   "outputs": [],
   "source": [
    "def transform_phone_number(x):\n",
    "    x = re.sub('[^0-9]', '', x)\n",
    "    if x[:3:] != \"380\" or len(x) != 12:\n",
    "        if x[0] == \"0\":\n",
    "            x = \"38\" + x\n",
    "        elif x[0] == \"8\":\n",
    "            x = \"3\" + x\n",
    "    return int(x)"
   ]
  },
  {
   "cell_type": "code",
   "execution_count": 4,
   "id": "a38e2d50",
   "metadata": {},
   "outputs": [
    {
     "name": "stdout",
     "output_type": "stream",
     "text": [
      "<class 'pandas.core.frame.DataFrame'>\n",
      "RangeIndex: 172 entries, 0 to 171\n",
      "Data columns (total 5 columns):\n",
      " #   Column                  Non-Null Count  Dtype \n",
      "---  ------                  --------------  ----- \n",
      " 0   index                   172 non-null    int64 \n",
      " 1   NotebookId              172 non-null    int64 \n",
      " 2   Phone                   172 non-null    int64 \n",
      " 3   allowed_communications  172 non-null    bool  \n",
      " 4   manager_name            172 non-null    object\n",
      "dtypes: bool(1), int64(3), object(1)\n",
      "memory usage: 5.7+ KB\n"
     ]
    }
   ],
   "source": [
    "test_ds = test_ds.dropna().reset_index()\n",
    "test_ds[\"Phone\"] = test_ds[\"Phone\"].apply(transform_phone_number)\n",
    "test_ds.info()"
   ]
  },
  {
   "cell_type": "markdown",
   "id": "2b7fac06",
   "metadata": {},
   "source": [
    "Now, let's count how many rows each manager has. "
   ]
  },
  {
   "cell_type": "code",
   "execution_count": 5,
   "id": "294336b0",
   "metadata": {},
   "outputs": [
    {
     "data": {
      "text/plain": [
       "Денис Головатий         23\n",
       "Марина Заєць            11\n",
       "Максим Сузік            11\n",
       "Алла Массольд           10\n",
       "Ірина Савенко            9\n",
       "Меркель Анна             8\n",
       "Вікторія Рибочка         8\n",
       "Ксенія Кебенко           7\n",
       "Юлія Настояща            7\n",
       "Олег Комарівський        7\n",
       "Жанна Олещенко           6\n",
       "Анастасія Ковальчук      6\n",
       "Дарина Калюжна           6\n",
       "Ніна Пустовойт           5\n",
       "Вікторія Сігута          5\n",
       "Віталій Гармаш           4\n",
       "Наталія Нижник           4\n",
       "Валентин Польгуй         4\n",
       "Богдан Валентій          3\n",
       "Тетяна Савицька          3\n",
       "E-commerce               3\n",
       "Катерина Удовенко        3\n",
       "Михайло Косолапов        3\n",
       "Вікторія Завольська      2\n",
       "Вікторія Швець           2\n",
       "Діана Клюжева            2\n",
       "Анастасія Бардакова      1\n",
       "Валентина Тураш          1\n",
       "Андрій Бизов             1\n",
       "Поліна Чайка             1\n",
       "Микола Мірошниченко      1\n",
       "Кирило Куліковський      1\n",
       "Олександр Брезгун        1\n",
       "Аліна Вахрамеєва         1\n",
       "Олексій Воронін          1\n",
       "Дмитро Cидько            1\n",
       "Name: manager_name, dtype: int64"
      ]
     },
     "execution_count": 5,
     "metadata": {},
     "output_type": "execute_result"
    }
   ],
   "source": [
    "pd.Series(test_ds[\"manager_name\"]).value_counts(sort=True)"
   ]
  },
  {
   "cell_type": "markdown",
   "id": "49fec531",
   "metadata": {},
   "source": [
    "Here is a bar plot to represent this data."
   ]
  },
  {
   "cell_type": "code",
   "execution_count": 6,
   "id": "ca55cad7",
   "metadata": {},
   "outputs": [
    {
     "data": {
      "text/plain": [
       "<AxesSubplot:>"
      ]
     },
     "execution_count": 6,
     "metadata": {},
     "output_type": "execute_result"
    },
    {
     "data": {
      "image/png": "[encoded data removed]",
      "text/plain": [
       "<Figure size 640x480 with 1 Axes>"
      ]
     },
     "metadata": {},
     "output_type": "display_data"
    }
   ],
   "source": [
    "pd.Series(test_ds[\"manager_name\"]).value_counts(sort=True).plot(kind='bar')"
   ]
  },
  {
   "cell_type": "code",
   "execution_count": 14,
   "id": "41e549df",
   "metadata": {},
   "outputs": [],
   "source": [
    "from urllib.request import Request, urlopen\n",
    "from bs4 import BeautifulSoup"
   ]
  },
  {
   "cell_type": "code",
   "execution_count": 15,
   "id": "27401154",
   "metadata": {},
   "outputs": [
    {
     "name": "stdout",
     "output_type": "stream",
     "text": [
      "<!DOCTYPE html>\n",
      "<html lang=\"ru\"><head>\n",
      "<script>\n",
      "      var dataLayer = window.dataLayer\n",
      "      dataLayer = dataLayer || []\n",
      "      dataLayer.push({\n",
      "        'gtm.start': new Date().getTime(),\n",
      "        event: 'gtm.js'\n",
      "      })\n",
      "    </script>\n",
      "<link href=\"https://rabota.com.ua\" rel=\"preconnect\"/>\n",
      "<link href=\"https://cf-rabota.com.ua/\" rel=\"preconnect\"/>\n",
      "<link as=\"font\" crossorigin=\"\" href=\"https://images.cf-rabota.com.ua/2017/05/fonts/graphik/Graphik-Regular-Web.woff2\" rel=\"preload\" type=\"font/woff2\"/>\n",
      "<link as=\"font\" crossorigin=\"\" href=\"https://images.cf-rabota.com.ua/2017/05/fonts/graphik/Graphik-Bold-Web.woff2\" rel=\"preload\" type=\"font/woff2\"/>\n",
      "<meta charset=\"utf-8\"/>\n",
      "<title>Robota.ua</title>\n",
      "<base href=\"/\"/>\n",
      "<meta content=\"width=device-width, initial-scale=1\" name=\"viewport\"/>\n",
      "<meta content=\"IE=edge\" http-equiv=\"X-UA-Compatible\"/>\n",
      "<link href=\"favicon.ico\" rel=\"icon\" type=\"image/x-icon\"/>\n",
      "<link href=\"https://alliance-desktop.rabota.ua/styles.693875557c09deb1baa5.css\" rel=\"stylesheet\"/></head>\n",
      "<body>\n",
      "<app-root></app-root>\n",
      "<script src=\"https://alliance-desktop.rabota.ua/runtime-es2015.5a744984db40778600ad.js\" type=\"module\"></script><script defer=\"\" nomodule=\"\" src=\"https://alliance-desktop.rabota.ua/runtime-es5.5a744984db40778600ad.js\"></script><script defer=\"\" nomodule=\"\" src=\"https://alliance-desktop.rabota.ua/polyfills-es5.646ea3e0d78123a60264.js\"></script><script src=\"https://alliance-desktop.rabota.ua/polyfills-es2015.a0511b05ec9fcdc05db3.js\" type=\"module\"></script><script src=\"https://alliance-desktop.rabota.ua/main-es2015.d2d55de89f39c95098e2.js\" type=\"module\"></script><script defer=\"\" nomodule=\"\" src=\"https://alliance-desktop.rabota.ua/main-es5.d2d55de89f39c95098e2.js\"></script>\n",
      "</body></html>\n"
     ]
    }
   ],
   "source": [
    "url = \"https://rabota.ua/ua/company1810293\"\n",
    "request_site = Request(url, headers={\"User-Agent\": \"Mozilla/5.0\"})\n",
    "html = urlopen(request_site).read().decode(\"utf-8\")\n",
    "soup = BeautifulSoup(html, features=\"html.parser\")\n",
    "print(soup)"
   ]
  },
  {
   "cell_type": "markdown",
   "id": "7336a7d3",
   "metadata": {},
   "source": [
    "Elements that contain company details are generated by scripts, so this won't work. But, I found the request that is sent by the browser to retrieve company data."
   ]
  },
  {
   "cell_type": "code",
   "execution_count": 67,
   "id": "25f0721d",
   "metadata": {},
   "outputs": [],
   "source": [
    "import requests\n",
    "import json "
   ]
  },
  {
   "cell_type": "code",
   "execution_count": 40,
   "id": "8707dff1",
   "metadata": {},
   "outputs": [],
   "source": [
    "def craft_payload(NotebookId):\n",
    "    return {\"operationName\":\"getCompanyInfoForCompanyPage\",\"variables\":{\"id\":f\"{NotebookId}\"},\"query\":\"query getCompanyInfoForCompanyPage($id: ID!) {\\n  company(id: $id) {\\n    ...CompanyPageCompanyInfo\\n    __typename\\n  }\\n}\\n\\nfragment CompanyPageCompanyInfo on Company {\\n  id\\n  name\\n  logoUrl\\n  companyUrl\\n  description\\n  isVerified\\n  isBrendProfile\\n  miniProfile {\\n    ...CompanyPageMiniProfile\\n    __typename\\n  }\\n  socialMedia {\\n    ...CompanyPageSocialMedia\\n    __typename\\n  }\\n  __typename\\n}\\n\\nfragment CompanyPageMiniProfile on CompanyMiniProfile {\\n  isEnabled\\n  years\\n  staffSize {\\n    id\\n    name\\n    __typename\\n  }\\n  benefits {\\n    id\\n    name\\n    __typename\\n  }\\n  images\\n  __typename\\n}\\n\\nfragment CompanyPageSocialMedia on CompanySocialMedia {\\n  facebookUrl\\n  instagramUrl\\n  linkedInUrl\\n  __typename\\n}\\n\"}"
   ]
  },
  {
   "cell_type": "code",
   "execution_count": 41,
   "id": "dbda72be",
   "metadata": {},
   "outputs": [
    {
     "data": {
      "text/plain": [
       "'{\"data\":{\"company\":{\"id\":\"1810293\",\"name\":\"Haus Mobel \",\"logoUrl\":\"https://company-logo-frankfurt.rabota.ua/Mebli-Stilj-Fabrika-_20160627090424.gif\",\"companyUrl\":\"http://www.hausmobel.eu/\",\"description\":\"Наша фабрика вже 19 років на ринку Ураїни, в даний час ми експортуємо наші вироби за кордон і постійно удосконалюємося та ростемо. Ми не зупиняємося на досягнутому, розширюємо переваги, які зроблять життя наших працівників ще більш комфортним.\",\"isVerified\":true,\"isBrendProfile\":false,\"miniProfile\":{\"isEnabled\":false,\"years\":-1,\"staffSize\":{\"id\":\"3\",\"name\":\"від 100 до 250\",\"__typename\":\"CompanyStaffSize\"},\"benefits\":[],\"images\":[],\"__typename\":\"CompanyMiniProfile\"},\"socialMedia\":{\"facebookUrl\":\"\",\"instagramUrl\":\"\",\"linkedInUrl\":\"\",\"__typename\":\"CompanySocialMedia\"},\"__typename\":\"Company\"}}}\\n'"
      ]
     },
     "execution_count": 41,
     "metadata": {},
     "output_type": "execute_result"
    }
   ],
   "source": [
    "url = \"https://dracula.rabota.ua/?q=getCompanyInfoForCompanyPage\" # url for the request\n",
    "notebookId = \"1810293\"  # company id (taken from the dataset)\n",
    "response0 = requests.post(url=url, json=craft_payload(notebookId)).content.decode(\"utf-8\")\n",
    "response0"
   ]
  },
  {
   "cell_type": "markdown",
   "id": "2f40cd17",
   "metadata": {},
   "source": [
    "As can be seen, the response contains company name, details about the company, its verification status, company size (max), social media links, etc. I am going to extract company name, size and verification status from the response and add it to the dataset."
   ]
  },
  {
   "cell_type": "code",
   "execution_count": 75,
   "id": "80959435",
   "metadata": {},
   "outputs": [],
   "source": [
    "company_name = []\n",
    "verification_status = []\n",
    "company_size = []\n",
    "\n",
    "\n",
    "def extract_company_data(NotebookId):\n",
    "    try:\n",
    "        response = requests.post(url=url, json=craft_payload(NotebookId)).content.decode(\"utf-8\")\n",
    "        data = json.loads(response)\n",
    "        company_name.append(data[\"data\"][\"company\"][\"name\"])\n",
    "        verification_status.append(data[\"data\"][\"company\"][\"isVerified\"])\n",
    "        staff_size = data[\"data\"][\"company\"][\"miniProfile\"][\"staffSize\"][\"name\"]\n",
    "        if staff_size == \"не вказано\":\n",
    "            company_size.append(0)\n",
    "        else:\n",
    "            company_size.append(int(staff_size[staff_size.rfind(' ') + 1::]))\n",
    "    except Exception as e:\n",
    "        print(e)"
   ]
  },
  {
   "cell_type": "code",
   "execution_count": 76,
   "id": "8540690a",
   "metadata": {},
   "outputs": [],
   "source": [
    "for nbId in test_ds[\"NotebookId\"]:\n",
    "    extract_company_data(nbId)"
   ]
  },
  {
   "cell_type": "code",
   "execution_count": 77,
   "id": "08a5cc0e",
   "metadata": {},
   "outputs": [
    {
     "data": {
      "text/html": [
       "<div>\n",
       "<style scoped>\n",
       "    .dataframe tbody tr th:only-of-type {\n",
       "        vertical-align: middle;\n",
       "    }\n",
       "\n",
       "    .dataframe tbody tr th {\n",
       "        vertical-align: top;\n",
       "    }\n",
       "\n",
       "    .dataframe thead th {\n",
       "        text-align: right;\n",
       "    }\n",
       "</style>\n",
       "<table border=\"1\" class=\"dataframe\">\n",
       "  <thead>\n",
       "    <tr style=\"text-align: right;\">\n",
       "      <th></th>\n",
       "      <th>index</th>\n",
       "      <th>NotebookId</th>\n",
       "      <th>Phone</th>\n",
       "      <th>allowed_communications</th>\n",
       "      <th>manager_name</th>\n",
       "      <th>company_name</th>\n",
       "      <th>verification_status</th>\n",
       "      <th>company_size</th>\n",
       "    </tr>\n",
       "  </thead>\n",
       "  <tbody>\n",
       "    <tr>\n",
       "      <th>0</th>\n",
       "      <td>0</td>\n",
       "      <td>10713220</td>\n",
       "      <td>380509140000</td>\n",
       "      <td>True</td>\n",
       "      <td>Ірина Савенко</td>\n",
       "      <td>Fine Art Shippers</td>\n",
       "      <td>True</td>\n",
       "      <td>20</td>\n",
       "    </tr>\n",
       "    <tr>\n",
       "      <th>1</th>\n",
       "      <td>1</td>\n",
       "      <td>3991423</td>\n",
       "      <td>380634100000</td>\n",
       "      <td>True</td>\n",
       "      <td>Анастасія Бардакова</td>\n",
       "      <td>Synergy group</td>\n",
       "      <td>True</td>\n",
       "      <td>500</td>\n",
       "    </tr>\n",
       "    <tr>\n",
       "      <th>2</th>\n",
       "      <td>2</td>\n",
       "      <td>4696490</td>\n",
       "      <td>380445010000</td>\n",
       "      <td>True</td>\n",
       "      <td>Олексій Воронін</td>\n",
       "      <td>PowerExpert</td>\n",
       "      <td>True</td>\n",
       "      <td>20</td>\n",
       "    </tr>\n",
       "    <tr>\n",
       "      <th>3</th>\n",
       "      <td>3</td>\n",
       "      <td>4598164</td>\n",
       "      <td>380678140000</td>\n",
       "      <td>True</td>\n",
       "      <td>Алла Массольд</td>\n",
       "      <td>Visak, Отель</td>\n",
       "      <td>True</td>\n",
       "      <td>100</td>\n",
       "    </tr>\n",
       "    <tr>\n",
       "      <th>4</th>\n",
       "      <td>5</td>\n",
       "      <td>13255582</td>\n",
       "      <td>380668110000</td>\n",
       "      <td>True</td>\n",
       "      <td>Алла Массольд</td>\n",
       "      <td>Нечволод С.О., ФОП</td>\n",
       "      <td>False</td>\n",
       "      <td>0</td>\n",
       "    </tr>\n",
       "    <tr>\n",
       "      <th>...</th>\n",
       "      <td>...</td>\n",
       "      <td>...</td>\n",
       "      <td>...</td>\n",
       "      <td>...</td>\n",
       "      <td>...</td>\n",
       "      <td>...</td>\n",
       "      <td>...</td>\n",
       "      <td>...</td>\n",
       "    </tr>\n",
       "    <tr>\n",
       "      <th>167</th>\n",
       "      <td>185</td>\n",
       "      <td>1056204</td>\n",
       "      <td>380675080000</td>\n",
       "      <td>True</td>\n",
       "      <td>Меркель Анна</td>\n",
       "      <td>ЛБ Ритейл, ТОВ</td>\n",
       "      <td>True</td>\n",
       "      <td>100</td>\n",
       "    </tr>\n",
       "    <tr>\n",
       "      <th>168</th>\n",
       "      <td>186</td>\n",
       "      <td>9835662</td>\n",
       "      <td>380993920000</td>\n",
       "      <td>True</td>\n",
       "      <td>Меркель Анна</td>\n",
       "      <td>Благий і компанія</td>\n",
       "      <td>False</td>\n",
       "      <td>20</td>\n",
       "    </tr>\n",
       "    <tr>\n",
       "      <th>169</th>\n",
       "      <td>187</td>\n",
       "      <td>1066133</td>\n",
       "      <td>380930757000</td>\n",
       "      <td>False</td>\n",
       "      <td>E-commerce</td>\n",
       "      <td>Service OnLine Technology</td>\n",
       "      <td>False</td>\n",
       "      <td>100</td>\n",
       "    </tr>\n",
       "    <tr>\n",
       "      <th>170</th>\n",
       "      <td>188</td>\n",
       "      <td>2449583</td>\n",
       "      <td>380979310000</td>\n",
       "      <td>True</td>\n",
       "      <td>E-commerce</td>\n",
       "      <td>Транс Кеа Логистик, ООО</td>\n",
       "      <td>False</td>\n",
       "      <td>20</td>\n",
       "    </tr>\n",
       "    <tr>\n",
       "      <th>171</th>\n",
       "      <td>189</td>\n",
       "      <td>3411552</td>\n",
       "      <td>380674321000</td>\n",
       "      <td>False</td>\n",
       "      <td>E-commerce</td>\n",
       "      <td>BAPGROUP</td>\n",
       "      <td>False</td>\n",
       "      <td>50</td>\n",
       "    </tr>\n",
       "  </tbody>\n",
       "</table>\n",
       "<p>172 rows × 8 columns</p>\n",
       "</div>"
      ],
      "text/plain": [
       "     index  NotebookId         Phone  allowed_communications  \\\n",
       "0        0    10713220  380509140000                    True   \n",
       "1        1     3991423  380634100000                    True   \n",
       "2        2     4696490  380445010000                    True   \n",
       "3        3     4598164  380678140000                    True   \n",
       "4        5    13255582  380668110000                    True   \n",
       "..     ...         ...           ...                     ...   \n",
       "167    185     1056204  380675080000                    True   \n",
       "168    186     9835662  380993920000                    True   \n",
       "169    187     1066133  380930757000                   False   \n",
       "170    188     2449583  380979310000                    True   \n",
       "171    189     3411552  380674321000                   False   \n",
       "\n",
       "            manager_name                company_name  verification_status  \\\n",
       "0          Ірина Савенко           Fine Art Shippers                 True   \n",
       "1    Анастасія Бардакова               Synergy group                 True   \n",
       "2       Олексій Воронін                  PowerExpert                 True   \n",
       "3          Алла Массольд                Visak, Отель                 True   \n",
       "4          Алла Массольд          Нечволод С.О., ФОП                False   \n",
       "..                   ...                         ...                  ...   \n",
       "167         Меркель Анна              ЛБ Ритейл, ТОВ                 True   \n",
       "168         Меркель Анна           Благий і компанія                False   \n",
       "169           E-commerce  Service OnLine Technology                 False   \n",
       "170           E-commerce     Транс Кеа Логистик, ООО                False   \n",
       "171           E-commerce                    BAPGROUP                False   \n",
       "\n",
       "     company_size  \n",
       "0              20  \n",
       "1             500  \n",
       "2              20  \n",
       "3             100  \n",
       "4               0  \n",
       "..            ...  \n",
       "167           100  \n",
       "168            20  \n",
       "169           100  \n",
       "170            20  \n",
       "171            50  \n",
       "\n",
       "[172 rows x 8 columns]"
      ]
     },
     "execution_count": 77,
     "metadata": {},
     "output_type": "execute_result"
    }
   ],
   "source": [
    "test_ds['company_name'] = company_name\n",
    "test_ds['verification_status'] = verification_status\n",
    "test_ds['company_size'] = company_size\n",
    "test_ds"
   ]
  },
  {
   "cell_type": "markdown",
   "id": "6ff25306",
   "metadata": {},
   "source": [
    "Now that company dat has been extracted, we can make a few graphs to look at it."
   ]
  },
  {
   "cell_type": "code",
   "execution_count": 78,
   "id": "77db6b44",
   "metadata": {},
   "outputs": [
    {
     "data": {
      "text/plain": [
       "<AxesSubplot:>"
      ]
     },
     "execution_count": 78,
     "metadata": {},
     "output_type": "execute_result"
    },
    {
     "data": {
      "image/png": "[encoded data removed]",
      "text/plain": [
       "<Figure size 640x480 with 1 Axes>"
      ]
     },
     "metadata": {},
     "output_type": "display_data"
    }
   ],
   "source": [
    "pd.Series(test_ds[\"verification_status\"]).value_counts(sort=True).plot(kind='bar')"
   ]
  },
  {
   "cell_type": "code",
   "execution_count": 81,
   "id": "a3c0e912",
   "metadata": {},
   "outputs": [
    {
     "data": {
      "text/plain": [
       "<AxesSubplot:>"
      ]
     },
     "execution_count": 81,
     "metadata": {},
     "output_type": "execute_result"
    },
    {
     "data": {
      "image/png": "[encoded data removed]",
      "text/plain": [
       "<Figure size 640x480 with 1 Axes>"
      ]
     },
     "metadata": {},
     "output_type": "display_data"
    }
   ],
   "source": [
    "pd.Series(test_ds[\"company_size\"]).value_counts(sort=True).plot(kind='bar')"
   ]
  },
  {
   "cell_type": "code",
   "execution_count": null,
   "id": "1d301132",
   "metadata": {},
   "outputs": [],
   "source": []
  }
 ],
 "metadata": {
  "kernelspec": {
   "display_name": "Python 3 (ipykernel)",
   "language": "python",
   "name": "python3"
  },
  "language_info": {
   "codemirror_mode": {
    "name": "ipython",
    "version": 3
   },
   "file_extension": ".py",
   "mimetype": "text/x-python",
   "name": "python",
   "nbconvert_exporter": "python",
   "pygments_lexer": "ipython3",
   "version": "3.10.6"
  }
 },
 "nbformat": 4,
 "nbformat_minor": 5
}
